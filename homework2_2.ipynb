{
 "cells": [
  {
   "cell_type": "code",
   "execution_count": 1,
   "id": "925968fb",
   "metadata": {},
   "outputs": [
    {
     "name": "stdout",
     "output_type": "stream",
     "text": [
      "Optimal solution:\n",
      "[2.33333333 2.66666667]\n",
      "Objective function value at optimal solution:\n",
      "46.3333333333334\n"
     ]
    }
   ],
   "source": [
    "import numpy as np\n",
    "from scipy.optimize import minimize\n",
    "\n",
    "def objective(x):\n",
    "    return -(20*x[0] + 16*x[1] - 2*x[0]**2 - x[1]**2 - (x[0] + x[1])**2)\n",
    "\n",
    "x0 = [1, 1]\n",
    "constraints = ({'type': 'ineq', 'fun': lambda x: 5 - (x[0] + x[1])})\n",
    "bounds = [(0, None), (0, None)]\n",
    "\n",
    "result = minimize(objective, x0, method='SLSQP', bounds=bounds, constraints=constraints)\n",
    "\n",
    "x_optimal = result.x\n",
    "fval = -result.fun\n",
    "\n",
    "print('Optimal solution:')\n",
    "print(x_optimal)\n",
    "print('Objective function value at optimal solution:')\n",
    "print(fval)"
   ]
  },
  {
   "cell_type": "code",
   "execution_count": null,
   "id": "8255c213",
   "metadata": {},
   "outputs": [],
   "source": []
  },
  {
   "cell_type": "code",
   "execution_count": null,
   "id": "dc93f739",
   "metadata": {},
   "outputs": [],
   "source": []
  }
 ],
 "metadata": {
  "kernelspec": {
   "display_name": "Python 3 (ipykernel)",
   "language": "python",
   "name": "python3"
  },
  "language_info": {
   "codemirror_mode": {
    "name": "ipython",
    "version": 3
   },
   "file_extension": ".py",
   "mimetype": "text/x-python",
   "name": "python",
   "nbconvert_exporter": "python",
   "pygments_lexer": "ipython3",
   "version": "3.11.4"
  }
 },
 "nbformat": 4,
 "nbformat_minor": 5
}
