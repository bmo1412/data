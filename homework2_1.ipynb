{
 "cells": [
  {
   "cell_type": "code",
   "execution_count": 1,
   "id": "c9491b79",
   "metadata": {},
   "outputs": [
    {
     "name": "stdout",
     "output_type": "stream",
     "text": [
      "Optimal solution:\n",
      "[-2.49999982  2.50000026  5.24999993 -3.49999999]\n"
     ]
    }
   ],
   "source": [
    "import numpy as np\n",
    "from scipy.optimize import minimize\n",
    "\n",
    "def objective(x):\n",
    "    return x[0]**2 + x[1]**2 + 2*x[2]**2 + x[3]**2 + 5*x[0] - 5*x[1] - 21*x[2] + 7*x[3]\n",
    "\n",
    "def nonlcon(x):\n",
    "    c1 = x[0]**2 + x[1]**2 + x[2]**2 + x[3]**2 + x[0] - x[1] + x[2] - x[3] - 8\n",
    "    c2 = x[0]**2 + 2*x[1]**2 + x[2]**2 + 2*x[3]**2 - x[0] - x[3] - 10\n",
    "    c3 = 2*x[0]**2 + x[1]**2 + x[2]**2 + 2*x[0] - x[1] - x[3] - 5\n",
    "    return [c1, c2, c3]\n",
    "\n",
    "x0 = [1, 1, 1, 1]\n",
    "constraints = ({'type': 'ineq', 'fun': lambda x: nonlcon(x)})\n",
    "bounds = [(None, None)] * 4\n",
    "\n",
    "result = minimize(objective, x0, method='SLSQP', bounds=bounds, constraints=constraints)\n",
    "\n",
    "x_optimal = result.x\n",
    "fval = result.fun\n",
    "\n",
    "print('Optimal solution:')\n",
    "print(x_optimal)\n"
   ]
  },
  {
   "cell_type": "code",
   "execution_count": null,
   "id": "e06d212a",
   "metadata": {},
   "outputs": [],
   "source": []
  }
 ],
 "metadata": {
  "kernelspec": {
   "display_name": "Python 3 (ipykernel)",
   "language": "python",
   "name": "python3"
  },
  "language_info": {
   "codemirror_mode": {
    "name": "ipython",
    "version": 3
   },
   "file_extension": ".py",
   "mimetype": "text/x-python",
   "name": "python",
   "nbconvert_exporter": "python",
   "pygments_lexer": "ipython3",
   "version": "3.11.4"
  }
 },
 "nbformat": 4,
 "nbformat_minor": 5
}
